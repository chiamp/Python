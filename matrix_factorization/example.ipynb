{
 "cells": [
  {
   "cell_type": "code",
   "execution_count": 2,
   "metadata": {},
   "outputs": [
    {
     "name": "stdout",
     "output_type": "stream",
     "text": [
      "[[5 3 0 2 1]\n",
      " [4 0 3 0 1]\n",
      " [1 1 0 3 5]\n",
      " [1 2 0 0 4]\n",
      " [0 0 1 5 4]]\n",
      "[[0.40222588 0.55875916 0.65583265]\n",
      " [0.58228675 0.1746011  0.92515994]\n",
      " [0.61229836 0.18425849 0.10799696]\n",
      " [0.33079379 0.73822653 0.16993753]\n",
      " [0.53857884 0.6734374  0.7760963 ]]\n",
      "[[0.5259178  0.80871658 0.28808355 0.73943664 0.09919606]\n",
      " [0.04233857 0.28319342 0.0033848  0.1639428  0.65599778]\n",
      " [0.72513914 0.66310187 0.06574789 0.10550855 0.87252372]]\n"
     ]
    }
   ],
   "source": [
    "from matrix_factorization import *\n",
    "import numpy as np\n",
    "\n",
    "R = np.array([\n",
    "     [5,3,0,2,1],\n",
    "     [4,0,3,0,1],\n",
    "     [1,1,0,3,5],\n",
    "     [1,2,0,0,4],\n",
    "     [0,0,1,5,4],\n",
    "    ])\n",
    "\n",
    "k = 3 #pick the number of latent features for the submatrices\n",
    "P = np.random.rand(R.shape[0],k)\n",
    "Qt = np.random.rand(k,R.shape[1]) #matrix Q Transpose\n",
    "\n",
    "print(R)\n",
    "print(P)\n",
    "print(Qt)"
   ]
  },
  {
   "cell_type": "code",
   "execution_count": 3,
   "metadata": {},
   "outputs": [
    {
     "name": "stdout",
     "output_type": "stream",
     "text": [
      "[[ 1.00885537 -0.48955384  1.98944654]\n",
      " [ 0.92906035 -0.33125164  1.58649659]\n",
      " [ 0.00757082  1.85558866  0.84856596]\n",
      " [ 1.02535542  1.39649031  0.44884265]\n",
      " [ 1.6680605   1.32722398  0.3895771 ]]\n",
      "[[ 0.67175991  1.27395494  0.72552238  1.71849923  0.4074465 ]\n",
      " [-0.40630534  0.15519974 -0.53270555  1.39077768  2.25442379]\n",
      " [ 2.03102199  0.87874234  1.29882333  0.47557167  0.85633809]]\n"
     ]
    }
   ],
   "source": [
    "#the two submatrices are of shape (5,3) and (3,5) respectively, and represent the relationship between each of the 3 latent features\n",
    "\n",
    "#fit the two submatrices so that their dot product resembles the original matrix R\n",
    "#treat 0 in the matrix R as a null value / missing data entry point\n",
    "gradient_descent(R,P,Qt,lamb=1e-1,alpha=1e-3,max_iter=10000,null_value=0)\n",
    "#lamb is the lambda L2 regularization parameter\n",
    "#alpha is the learning rate\n",
    "#max_iter is how many iterations the gradient descent algorithms run\n",
    "#null_value is what value in the original matrix is considered a null value / missing data entry\n",
    "#the algorithm will ignore these entries when performing gradient descent to fit the submatrices to the values of the original matrix \n",
    "\n",
    "print(P)\n",
    "print(Qt)"
   ]
  },
  {
   "cell_type": "code",
   "execution_count": 4,
   "metadata": {},
   "outputs": [
    {
     "name": "stdout",
     "output_type": "stream",
     "text": [
      "[[4.91722659 2.95746855 3.57667478 1.99898103 1.0110316 ]\n",
      " [3.98090427 2.52629258 2.91109245 1.89038494 0.99033825]\n",
      " [0.97460631 1.0433026  0.1191477  2.99727567 4.91302728]\n",
      " [1.03300049 1.91740858 0.58296748 3.9177369  3.95041951]\n",
      " [1.37251764 2.67335663 1.00918747 4.89770601 4.00538043]]\n"
     ]
    }
   ],
   "source": [
    "#when recombining the fitted submatrices, it will predict what the null values are\n",
    "R_prime = np.dot(P,Qt)\n",
    "print(R_prime)"
   ]
  },
  {
   "cell_type": "code",
   "execution_count": 5,
   "metadata": {},
   "outputs": [
    {
     "name": "stdout",
     "output_type": "stream",
     "text": [
      "[[5 3 0 2 1]\n",
      " [4 0 3 0 1]\n",
      " [1 1 0 3 5]\n",
      " [1 2 0 0 4]\n",
      " [0 0 1 5 4]]\n"
     ]
    }
   ],
   "source": [
    "#compare it with the original matrix...\n",
    "print(R)"
   ]
  },
  {
   "cell_type": "code",
   "execution_count": null,
   "metadata": {},
   "outputs": [],
   "source": [
    "#the values are quite close with the original matrix\n",
    "#the null values (0) were imputed with a prediction from the fitted submatrices"
   ]
  }
 ],
 "metadata": {
  "kernelspec": {
   "display_name": "Python 3",
   "language": "python",
   "name": "python3"
  },
  "language_info": {
   "codemirror_mode": {
    "name": "ipython",
    "version": 3
   },
   "file_extension": ".py",
   "mimetype": "text/x-python",
   "name": "python",
   "nbconvert_exporter": "python",
   "pygments_lexer": "ipython3",
   "version": "3.6.4"
  }
 },
 "nbformat": 4,
 "nbformat_minor": 2
}
